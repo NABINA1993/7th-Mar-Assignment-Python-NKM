{
 "cells": [
  {
   "cell_type": "markdown",
   "id": "18c796d6",
   "metadata": {},
   "source": [
    "Q1. What are the three measures of central tendency?"
   ]
  },
  {
   "cell_type": "markdown",
   "id": "a73f7739",
   "metadata": {},
   "source": [
    "The three measures of central tendency are:\n",
    "\n",
    "Mean: The mean, also known as the average, is the sum of all the values in a dataset divided by the number of values. It is often used when the data is normally distributed.\n",
    "\n",
    "Median: The median is the middle value in a dataset when the data is arranged in order from smallest to largest. It is often used when the data is skewed or contains outliers.\n",
    "\n",
    "Mode: The mode is the value that occurs most frequently in a dataset. It is often used when dealing with categorical data or when there are multiple peaks in the data distribution."
   ]
  },
  {
   "cell_type": "markdown",
   "id": "e6a73517",
   "metadata": {},
   "source": [
    "Q2. What is the difference between the mean, median, and mode? How are they used to measure the \n",
    "central tendency of a dataset?"
   ]
  },
  {
   "cell_type": "markdown",
   "id": "376e5c64",
   "metadata": {},
   "source": [
    "The mean, median, and mode are different measures of central tendency used to describe the typical value in a dataset.\n",
    "\n",
    "The mean is the sum of all the values in the dataset divided by the number of values. It is sensitive to extreme values, meaning that if there are outliers or extreme values in the dataset, the mean can be skewed towards those values. It is most useful when the data is normally distributed, with a symmetrical shape.\n",
    "\n",
    "The median is the middle value in a dataset when the data is arranged in order from smallest to largest. It is not affected by extreme values or outliers and is more appropriate for skewed data. The median is a better representation of central tendency when the dataset contains extreme values, as it is not as affected by them.\n",
    "\n",
    "The mode is the value that occurs most frequently in the dataset. It is most useful for describing categorical or nominal data, where there are no clear ordering relationships between values. The mode is also helpful when the data has multiple peaks or clusters, as it can identify the most common value in each cluster.\n",
    "\n",
    "To measure the central tendency of a dataset, statisticians often use one or more of these measures, depending on the nature of the data and the research question. In general, the mean is used when the data is normally distributed and there are no outliers, the median is used when the data is skewed or contains outliers, and the mode is used for categorical or nominal data.\n",
    "\n",
    "\n",
    "\n"
   ]
  },
  {
   "cell_type": "markdown",
   "id": "6d91f246",
   "metadata": {},
   "source": [
    "Q3. Measure the three measures of central tendency for the given height data:\n",
    "\n",
    " [178,177,176,177,178.2,178,175,179,180,175,178.9,176.2,177,172.5,178,176.5]"
   ]
  },
  {
   "cell_type": "markdown",
   "id": "4695a718",
   "metadata": {},
   "source": [
    "To find the measures of central tendency for the given height data, we can calculate the mean, median, and mode as follows:\n",
    "\n",
    "Mean:\n",
    "We can calculate the mean by adding up all the values and dividing by the total number of values:\n",
    "\n",
    "(178 + 177 + 176 + 177 + 178.2 + 178 + 175 + 179 + 180 + 175 + 178.9 + 176.2 + 177 + 172.5 + 178 + 176.5) / 16 = 177.31\n",
    "\n",
    "So the mean height is 177.31 cm.\n",
    "\n",
    "Median:\n",
    "To find the median, we first need to arrange the data in order from smallest to largest:\n",
    "\n",
    "[172.5, 175, 175, 176, 176.2, 176.5, 177, 177, 178, 178, 178, 178.2, 178.9, 179, 180]\n",
    "\n",
    "There are 16 values in the dataset, so the median is the average of the two middle values, which are 177 and 178:\n",
    "\n",
    "(177 + 178) / 2 = 177.5\n",
    "\n",
    "So the median height is 177.5 cm.\n",
    "\n",
    "Mode:\n",
    "To find the mode, we need to look for the value that occurs most frequently in the dataset:\n",
    "\n",
    "The value 178 occurs most frequently in the dataset, so the mode height is 178 cm.\n",
    "\n",
    "Therefore, the measures of central tendency for the given height data are:\n",
    "\n",
    "Mean: 177.31 cm\n",
    "Median: 177.5 cm\n",
    "Mode: 178 cm\n",
    "\n",
    "\n",
    "\n"
   ]
  },
  {
   "cell_type": "code",
   "execution_count": 2,
   "id": "eef87996",
   "metadata": {},
   "outputs": [
    {
     "name": "stdout",
     "output_type": "stream",
     "text": [
      "Mean: 177.01875\n",
      "Median: 177.0\n",
      "Mode: 178\n"
     ]
    }
   ],
   "source": [
    "# height data\n",
    "heights = [178, 177, 176, 177, 178.2, 178, 175, 179, 180, 175, 178.9, 176.2, 177, 172.5, 178, 176.5]\n",
    "\n",
    "# mean\n",
    "mean = sum(heights) / len(heights)\n",
    "print(\"Mean:\", mean)\n",
    "\n",
    "# median\n",
    "heights_sorted = sorted(heights)\n",
    "n = len(heights_sorted)\n",
    "if n % 2 == 0:\n",
    "    median = (heights_sorted[n//2] + heights_sorted[n//2 - 1]) / 2\n",
    "else:\n",
    "    median = heights_sorted[n//2]\n",
    "print(\"Median:\", median)\n",
    "\n",
    "# mode\n",
    "from collections import Counter\n",
    "height_counts = Counter(heights)\n",
    "mode = height_counts.most_common(1)[0][0]\n",
    "print(\"Mode:\", mode)\n"
   ]
  },
  {
   "cell_type": "markdown",
   "id": "cd6e967d",
   "metadata": {},
   "source": [
    "Q4. Find the standard deviation for the given data:\n",
    "\n",
    "[178,177,176,177,178.2,178,175,179,180,175,178.9,176.2,177,172.5,178,176.5]"
   ]
  },
  {
   "cell_type": "code",
   "execution_count": 3,
   "id": "b28886ab",
   "metadata": {},
   "outputs": [
    {
     "name": "stdout",
     "output_type": "stream",
     "text": [
      "Standard deviation: 1.7885814036548633\n"
     ]
    }
   ],
   "source": [
    "import math\n",
    "\n",
    "# height data\n",
    "heights = [178, 177, 176, 177, 178.2, 178, 175, 179, 180, 175, 178.9, 176.2, 177, 172.5, 178, 176.5]\n",
    "\n",
    "# mean\n",
    "mean = sum(heights) / len(heights)\n",
    "\n",
    "# standard deviation\n",
    "variance = sum((x - mean) ** 2 for x in heights) / len(heights)\n",
    "std_dev = math.sqrt(variance)\n",
    "print(\"Standard deviation:\", std_dev)\n"
   ]
  },
  {
   "cell_type": "markdown",
   "id": "3fcd31f3",
   "metadata": {},
   "source": [
    "Q5. How are measures of dispersion such as range, variance, and standard deviation used to describe \n",
    "the spread of a dataset? Provide an example."
   ]
  },
  {
   "cell_type": "markdown",
   "id": "7ed9bdeb",
   "metadata": {},
   "source": [
    "Measures of dispersion such as range, variance, and standard deviation are used to describe the spread or variability of a dataset.\n",
    "\n",
    "Range: The range is the simplest measure of dispersion, and it is defined as the difference between the maximum and minimum values in the dataset. It gives us an idea of how much the data values are spread out from each other.\n",
    "\n",
    "Variance: The variance is a measure of how much the data values deviate from the mean. It is calculated by taking the average of the squared deviations from the mean. A higher variance indicates a larger spread of the data values.\n",
    "\n",
    "Standard deviation: The standard deviation is the square root of the variance. It is a widely used measure of dispersion that gives an idea of how much the data values are spread out around the mean.\n",
    "\n",
    "For example, let's consider a dataset of test scores for a class of students:\n",
    "\n",
    "[85, 92, 78, 90, 85, 88, 95, 82, 90, 92]\n",
    "\n",
    "The range of the scores is the difference between the maximum and minimum values, which is 17 (95-78). This tells us that the scores are somewhat spread out.\n",
    "\n",
    "To calculate the variance and standard deviation, we can use Python code:"
   ]
  },
  {
   "cell_type": "code",
   "execution_count": 4,
   "id": "c79e6c6b",
   "metadata": {},
   "outputs": [
    {
     "name": "stdout",
     "output_type": "stream",
     "text": [
      "Variance: 24.210000000000004\n",
      "Standard deviation: 4.920365840057018\n"
     ]
    }
   ],
   "source": [
    "import math\n",
    "\n",
    "# test scores\n",
    "scores = [85, 92, 78, 90, 85, 88, 95, 82, 90, 92]\n",
    "\n",
    "# mean\n",
    "mean = sum(scores) / len(scores)\n",
    "\n",
    "# variance\n",
    "variance = sum((x - mean) ** 2 for x in scores) / len(scores)\n",
    "\n",
    "# standard deviation\n",
    "std_dev = math.sqrt(variance)\n",
    "\n",
    "print(\"Variance:\", variance)\n",
    "print(\"Standard deviation:\", std_dev)\n"
   ]
  },
  {
   "cell_type": "markdown",
   "id": "20d799c4",
   "metadata": {},
   "source": [
    "Q6. What is a Venn diagram?"
   ]
  },
  {
   "cell_type": "markdown",
   "id": "557345d4",
   "metadata": {},
   "source": [
    "A Venn diagram is a graphical representation of the relationships between different sets or groups of objects or data. It consists of a series of overlapping circles, each representing a set, with the overlapping regions representing the intersection of those sets.\n",
    "\n",
    "Venn diagrams are often used to visually illustrate logical relationships and set theory concepts, such as unions, intersections, complements, and subsets. They can also be used to compare and contrast different groups or categories based on their shared and unique characteristics.\n",
    "\n",
    "Venn diagrams can be simple or complex, depending on the number of sets and their relationships. They are a useful tool for organizing and visualizing information, and are commonly used in mathematics, statistics, logic, and other fields."
   ]
  },
  {
   "cell_type": "markdown",
   "id": "b2742493",
   "metadata": {},
   "source": [
    "Q7. For the two given sets A = (2,3,4,5,6,7) & B = (0,2,6,8,10). Find:\n",
    "\n",
    "(i) \tA  B\n",
    "\n",
    "(ii)\tA ⋃ B"
   ]
  },
  {
   "cell_type": "markdown",
   "id": "e1558c0e",
   "metadata": {},
   "source": [
    "Given sets:\n",
    "\n",
    "A = (2, 3, 4, 5, 6, 7)\n",
    "B = (0, 2, 6, 8, 10)\n",
    "\n",
    "(i) A ∩ B (Intersection of A and B):\n",
    "The intersection of two sets A and B contains only the elements that are common to both A and B.\n",
    "\n",
    "A ∩ B = (2, 6)\n",
    "\n",
    "(ii) A ⋃ B (Union of A and B):\n",
    "The union of two sets A and B contains all the elements that are present in either A or B, or both.\n",
    "\n",
    "A ⋃ B = (0, 2, 3, 4, 5, 6, 7, 8, 10)\n",
    "\n",
    "Therefore, the solutions for the given questions are:\n",
    "(i) A ∩ B = (2, 6)\n",
    "(ii) A ⋃ B = (0, 2, 3, 4, 5, 6, 7, 8, 10)"
   ]
  },
  {
   "cell_type": "code",
   "execution_count": 5,
   "id": "62895857",
   "metadata": {},
   "outputs": [
    {
     "name": "stdout",
     "output_type": "stream",
     "text": [
      "A ∩ B: {2, 6}\n",
      "A ⋃ B: {0, 2, 3, 4, 5, 6, 7, 8, 10}\n"
     ]
    }
   ],
   "source": [
    "# sets A and B\n",
    "A = {2, 3, 4, 5, 6, 7}\n",
    "B = {0, 2, 6, 8, 10}\n",
    "\n",
    "# intersection of A and B\n",
    "intersection = A.intersection(B)\n",
    "print(\"A ∩ B:\", intersection)\n",
    "\n",
    "# union of A and B\n",
    "union = A.union(B)\n",
    "print(\"A ⋃ B:\", union)\n"
   ]
  },
  {
   "cell_type": "markdown",
   "id": "377689e8",
   "metadata": {},
   "source": [
    "Q8. What do you understand about skewness in data?"
   ]
  },
  {
   "cell_type": "markdown",
   "id": "6012e601",
   "metadata": {},
   "source": [
    "Skewness is a statistical measure that indicates the asymmetry of a distribution of data around its mean. In other words, it measures the degree to which a dataset is not symmetrically distributed around its mean.\n",
    "\n",
    "A perfectly symmetrical distribution has zero skewness, and the mean, median, and mode are all the same. Positive skewness means that the tail of the distribution is longer on the positive side of the mean, while negative skewness means that the tail is longer on the negative side of the mean.\n",
    "\n",
    "Skewness is an important concept in statistics because it affects the interpretation of other statistical measures, such as the mean and standard deviation. For example, in a positively skewed distribution, the mean may be higher than the median because the tail is pulling the mean towards higher values.\n",
    "\n",
    "Understanding the skewness of a dataset can help in choosing appropriate statistical tests and models, and in identifying outliers and other anomalies in the data.\n",
    "\n",
    "\n",
    "\n"
   ]
  },
  {
   "cell_type": "markdown",
   "id": "6301ced9",
   "metadata": {},
   "source": [
    "Q9. If a data is right skewed then what will be the position of median with respect to mean?"
   ]
  },
  {
   "cell_type": "markdown",
   "id": "79f758b4",
   "metadata": {},
   "source": [
    "If a data is right skewed, it means that the tail of the distribution is longer on the right-hand side (positive side) of the mean. In this case, the median will typically be less than the mean.\n",
    "\n",
    "The reason for this is that the median is less sensitive to extreme values (outliers) in the dataset compared to the mean. In a right-skewed distribution, the presence of a few large values on the right side of the mean will pull the mean towards higher values, while the median will be closer to the middle of the data.\n",
    "\n",
    "In summary, if a data is right skewed, the median will typically be less than the mean."
   ]
  },
  {
   "cell_type": "markdown",
   "id": "604f48e9",
   "metadata": {},
   "source": [
    "Q10. Explain the difference between covariance and correlation. How are these measures used in \n",
    "statistical analysis?"
   ]
  },
  {
   "cell_type": "markdown",
   "id": "94446468",
   "metadata": {},
   "source": [
    "Covariance and correlation are both measures of the relationship between two variables in a dataset. However, there are some key differences between the two measures.\n",
    "\n",
    "Covariance is a measure of the direction and strength of the linear relationship between two variables. It measures how two variables vary together, and is calculated by taking the average of the product of the deviations of each variable from its mean. A positive covariance indicates that the two variables tend to move in the same direction, while a negative covariance indicates that they tend to move in opposite directions. However, the magnitude of the covariance is dependent on the scale of the variables, making it difficult to compare covariances between different datasets.\n",
    "\n",
    "Correlation, on the other hand, is a standardized measure of the linear relationship between two variables. It measures the degree to which two variables are related, and is calculated by dividing the covariance by the product of the standard deviations of the two variables. Correlation takes on values between -1 and 1, where a value of -1 indicates a perfect negative linear relationship, a value of 0 indicates no linear relationship, and a value of 1 indicates a perfect positive linear relationship.\n",
    "\n",
    "In statistical analysis, both covariance and correlation are used to examine the relationship between two variables. However, correlation is generally preferred because it is a standardized measure that is not affected by the scale of the variables. Correlation is also easier to interpret because it takes on a range of values between -1 and 1, which allows for easier comparison between different datasets."
   ]
  },
  {
   "cell_type": "code",
   "execution_count": 6,
   "id": "91187433",
   "metadata": {},
   "outputs": [
    {
     "name": "stdout",
     "output_type": "stream",
     "text": [
      "Covariance Matrix:\n",
      " [[ 2.5  5. ]\n",
      " [ 5.  10. ]]\n",
      "Covariance: 5.0\n",
      "Correlation Coefficient: 0.9999999999999999\n"
     ]
    }
   ],
   "source": [
    "import numpy as np\n",
    "\n",
    "# Define two arrays of data\n",
    "x = np.array([1, 2, 3, 4, 5])\n",
    "y = np.array([2, 4, 6, 8, 10])\n",
    "\n",
    "# Calculate the covariance matrix\n",
    "covariance_matrix = np.cov(x, y)\n",
    "print(\"Covariance Matrix:\\n\", covariance_matrix)\n",
    "\n",
    "# Extract the covariance value\n",
    "covariance = covariance_matrix[0, 1]\n",
    "print(\"Covariance:\", covariance)\n",
    "\n",
    "# Calculate the correlation coefficient\n",
    "correlation_coefficient = np.corrcoef(x, y)[0, 1]\n",
    "print(\"Correlation Coefficient:\", correlation_coefficient)\n"
   ]
  },
  {
   "cell_type": "markdown",
   "id": "e8e6ed54",
   "metadata": {},
   "source": [
    "Q11. What is the formula for calculating the sample mean? Provide an example calculation for a \n",
    "dataset."
   ]
  },
  {
   "cell_type": "markdown",
   "id": "a793dde3",
   "metadata": {},
   "source": [
    "The formula for calculating the sample mean (also known as the arithmetic mean) is:\n",
    "\n",
    "sample mean = (sum of all values in the sample) / (number of values in the sample)\n",
    "\n",
    "In mathematical notation, this can be written as:\n",
    "\n",
    "x̄ = Σ xi / n\n",
    "\n",
    "where x̄ is the sample mean, Σ is the summation symbol, xi represents the i-th value in the sample, and n is the number of values in the sample.\n",
    "\n",
    "Here is an example calculation for a dataset:\n",
    "\n",
    "Suppose we have the following dataset:\n",
    "\n",
    "[2, 5, 7, 9, 12]\n",
    "\n",
    "To calculate the sample mean, we first sum up all the values in the dataset:\n",
    "\n",
    "2 + 5 + 7 + 9 + 12 = 35\n",
    "\n",
    "We then divide the sum by the number of values in the dataset (which is 5 in this case):\n",
    "\n",
    "35 / 5 = 7\n",
    "\n",
    "Therefore, the sample mean for this dataset is 7.\n",
    "\n",
    "\n",
    "\n"
   ]
  },
  {
   "cell_type": "code",
   "execution_count": 7,
   "id": "02f84a0f",
   "metadata": {},
   "outputs": [
    {
     "name": "stdout",
     "output_type": "stream",
     "text": [
      "Sample Mean: 7.0\n"
     ]
    }
   ],
   "source": [
    "import numpy as np\n",
    "\n",
    "# Define the sample data\n",
    "data = np.array([2, 5, 7, 9, 12])\n",
    "\n",
    "# Calculate the sample mean\n",
    "mean = np.mean(data)\n",
    "\n",
    "# Print the result\n",
    "print(\"Sample Mean:\", mean)\n"
   ]
  },
  {
   "cell_type": "markdown",
   "id": "ff05127b",
   "metadata": {},
   "source": [
    "Q12. For a normal distribution data what is the relationship between its measure of central tendency?"
   ]
  },
  {
   "cell_type": "markdown",
   "id": "f2e01471",
   "metadata": {},
   "source": [
    "For a normal distribution, the three measures of central tendency (mean, median, and mode) are equal. This means that the peak of the distribution (i.e., the mode), the midpoint of the distribution (i.e., the median), and the balance point of the distribution (i.e., the mean) all coincide at the same point.\n",
    "\n",
    "This property of normal distributions is sometimes referred to as the \"central limit theorem\" and is one of the reasons why normal distributions are commonly used in statistical analysis. When data is normally distributed, the mean, median, and mode can be used interchangeably to describe the central tendency of the data."
   ]
  },
  {
   "cell_type": "markdown",
   "id": "b1dee0d3",
   "metadata": {},
   "source": [
    "Q13. How is covariance different from correlation?"
   ]
  },
  {
   "cell_type": "markdown",
   "id": "00c05358",
   "metadata": {},
   "source": [
    "Covariance and correlation are both measures of the relationship between two variables, but they differ in a few key ways:\n",
    "\n",
    "Definition: Covariance measures the extent to which two variables vary together, whereas correlation measures the strength and direction of the linear relationship between two variables.\n",
    "\n",
    "Range of values: Covariance can take on any value, positive, negative or zero, depending on the relationship between the two variables. Correlation, on the other hand, ranges from -1 (perfect negative correlation) to 1 (perfect positive correlation), with 0 indicating no correlation.\n",
    "\n",
    "Unit of measurement: Covariance is expressed in the units of the two variables being measured, whereas correlation is unitless, since it is a standardized measure.\n",
    "\n",
    "Interpretation: Correlation is more useful than covariance for interpreting the relationship between two variables, since it is not affected by differences in scale or units of measurement.\n",
    "\n",
    "In summary, covariance and correlation are both useful measures for understanding the relationship between two variables, but correlation is generally preferred since it provides a standardized measure of the strength and direction of the relationship that is not influenced by differences in scale or units of measurement."
   ]
  },
  {
   "cell_type": "markdown",
   "id": "158e1f6f",
   "metadata": {},
   "source": [
    "Q14. How do outliers affect measures of central tendency and dispersion? Provide an example."
   ]
  },
  {
   "cell_type": "markdown",
   "id": "b19f9c26",
   "metadata": {},
   "source": [
    "Outliers can have a significant impact on measures of central tendency and dispersion, particularly the mean and standard deviation.\n",
    "\n",
    "For example, consider the following dataset of 10 numbers:\n",
    "\n",
    "[2, 4, 5, 7, 8, 9, 11, 13, 15, 20]\n",
    "\n",
    "If we calculate the mean and standard deviation of this dataset, we get:\n",
    "\n",
    "Mean = 9.4\n",
    "Standard deviation = 5.54\n",
    "\n",
    "However, if we add an outlier to the dataset, such as 100:\n",
    "\n",
    "[2, 4, 5, 7, 8, 9, 11, 13, 15, 100]\n",
    "\n",
    "The mean and standard deviation change dramatically:\n",
    "\n",
    "Mean = 17.4\n",
    "Standard deviation = 34.65\n",
    "\n",
    "The addition of the outlier has caused the mean to shift significantly to the right, and the standard deviation to increase by a large amount. This illustrates how outliers can have a disproportionate impact on measures of central tendency and dispersion, and highlights the importance of identifying and dealing with outliers appropriately in data analysis."
   ]
  },
  {
   "cell_type": "code",
   "execution_count": 8,
   "id": "c86c7e91",
   "metadata": {},
   "outputs": [
    {
     "name": "stdout",
     "output_type": "stream",
     "text": [
      "Mean:  9.4\n",
      "Standard deviation:  5.2\n"
     ]
    }
   ],
   "source": [
    "import numpy as np\n",
    "\n",
    "# Define the dataset\n",
    "data = np.array([2, 4, 5, 7, 8, 9, 11, 13, 15, 20])\n",
    "\n",
    "# Calculate the mean\n",
    "mean = np.mean(data)\n",
    "\n",
    "# Calculate the standard deviation\n",
    "std = np.std(data)\n",
    "\n",
    "print(\"Mean: \", mean)\n",
    "print(\"Standard deviation: \", std)\n"
   ]
  },
  {
   "cell_type": "code",
   "execution_count": 9,
   "id": "a002be72",
   "metadata": {},
   "outputs": [
    {
     "name": "stdout",
     "output_type": "stream",
     "text": [
      "Mean:  17.636363636363637\n",
      "Standard deviation:  26.51336790537842\n"
     ]
    }
   ],
   "source": [
    "# Add an outlier\n",
    "data = np.append(data, 100)\n",
    "\n",
    "# Calculate the new mean\n",
    "mean = np.mean(data)\n",
    "\n",
    "# Calculate the new standard deviation\n",
    "std = np.std(data)\n",
    "\n",
    "print(\"Mean: \", mean)\n",
    "print(\"Standard deviation: \", std)\n"
   ]
  },
  {
   "cell_type": "code",
   "execution_count": null,
   "id": "128c5d2d",
   "metadata": {},
   "outputs": [],
   "source": []
  }
 ],
 "metadata": {
  "kernelspec": {
   "display_name": "Python 3 (ipykernel)",
   "language": "python",
   "name": "python3"
  },
  "language_info": {
   "codemirror_mode": {
    "name": "ipython",
    "version": 3
   },
   "file_extension": ".py",
   "mimetype": "text/x-python",
   "name": "python",
   "nbconvert_exporter": "python",
   "pygments_lexer": "ipython3",
   "version": "3.10.5"
  }
 },
 "nbformat": 4,
 "nbformat_minor": 5
}
